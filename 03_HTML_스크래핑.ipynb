{
  "nbformat": 4,
  "nbformat_minor": 0,
  "metadata": {
    "colab": {
      "provenance": [],
      "collapsed_sections": [
        "_FZWpDLZABiG",
        "psPF4sE7BZQw",
        "pSc1BztRB8f8"
      ],
      "include_colab_link": true
    },
    "kernelspec": {
      "name": "python3",
      "display_name": "Python 3"
    },
    "language_info": {
      "name": "python"
    }
  },
  "cells": [
    {
      "cell_type": "markdown",
      "metadata": {
        "id": "view-in-github",
        "colab_type": "text"
      },
      "source": [
        "<a href=\"https://colab.research.google.com/github/dudns1234/Web-Scraping/blob/master/03_HTML_%EC%8A%A4%ED%81%AC%EB%9E%98%ED%95%91.ipynb\" target=\"_parent\"><img src=\"https://colab.research.google.com/assets/colab-badge.svg\" alt=\"Open In Colab\"/></a>"
      ]
    },
    {
      "cell_type": "code",
      "execution_count": null,
      "metadata": {
        "id": "APXb8zXa3MAU"
      },
      "outputs": [],
      "source": [
        "html_str = \"\"\"\n",
        "<html>\n",
        "  <head>\n",
        "    <title>안녕하세요</title>\n",
        "  </head>\n",
        "  <body>\n",
        "    <div id=\"container\">\n",
        "      <p class='p1'>hello</p>\n",
        "      <p>Bye</p>\n",
        "    </div>\n",
        "  </body>\n",
        "</html>\"\"\"\n",
        "\n",
        "# html_str = \"\"\"\n",
        "# <html>\n",
        "#   <head>\n",
        "#     <title>안녕하세요</title>\n",
        "#   </head>\n",
        "#   <body>\n",
        "#     <div id=\"container\">\n",
        "#       <p class='p1'>hello</p>\n",
        "#       <p>Bye</p>\n",
        "#       <p class='p2'>ya</p>\n",
        "#     </div>\n",
        "#   </body>\n",
        "# </html>\"\"\""
      ]
    },
    {
      "cell_type": "markdown",
      "source": [
        "html 문자열을 파이썬에서 다뤄야 한다.\n",
        "- HTML 문자열을 엘리먼트화 해서 파이썬에서 **객체**로 다룰 수 있어야 한다.\n",
        "  - `BeautifulSoup`을 이용해서 HTML 문자열을 엘리먼트 객체로 바꿔줄 수 있다!"
      ],
      "metadata": {
        "id": "jqYHDNmo3cNe"
      }
    },
    {
      "cell_type": "code",
      "source": [
        "from bs4 import BeautifulSoup # 이상한 나라의 앨리스"
      ],
      "metadata": {
        "id": "Hz7bQUt23lnd"
      },
      "execution_count": null,
      "outputs": []
    },
    {
      "cell_type": "code",
      "source": [
        "soup = BeautifulSoup(html_str, 'html.parser')\n",
        "soup"
      ],
      "metadata": {
        "colab": {
          "base_uri": "https://localhost:8080/"
        },
        "id": "TnG1uZAU5m40",
        "outputId": "66371c11-7e52-4309-d636-860cf8518f4c"
      },
      "execution_count": null,
      "outputs": [
        {
          "output_type": "execute_result",
          "data": {
            "text/plain": [
              "\n",
              "<html>\n",
              "<head>\n",
              "<title>안녕하세요</title>\n",
              "</head>\n",
              "<body>\n",
              "<div id=\"container\">\n",
              "<p class=\"p1\">hello</p>\n",
              "<p>Bye</p>\n",
              "</div>\n",
              "</body>\n",
              "</html>"
            ]
          },
          "metadata": {},
          "execution_count": 17
        }
      ]
    },
    {
      "cell_type": "code",
      "source": [
        "type(soup)"
      ],
      "metadata": {
        "colab": {
          "base_uri": "https://localhost:8080/"
        },
        "id": "Bmy4Y8KK5y0j",
        "outputId": "366f849e-79fa-4c04-97a8-c70cbfb93b7b"
      },
      "execution_count": null,
      "outputs": [
        {
          "output_type": "execute_result",
          "data": {
            "text/plain": [
              "bs4.BeautifulSoup"
            ]
          },
          "metadata": {},
          "execution_count": 18
        }
      ]
    },
    {
      "cell_type": "markdown",
      "source": [
        "# `find`를 이용하기\n",
        "- `find(\"태그명\", \"속성 값을 딕셔너리\")` : 한 개의 엘리먼트만 찾기\n",
        "- `find_all(\"태그명\", \"속성 값 딕셔너리\")` : 여러 개 찾기(리스트)"
      ],
      "metadata": {
        "id": "u6AF3jGv5-bk"
      }
    },
    {
      "cell_type": "code",
      "source": [
        "# hello와 ya가져오기 -> find_all 이기 때문에 리스트 형태임. 그래서 .text로는 불가함.\n",
        "soup.find_all(\"p\")[::2]"
      ],
      "metadata": {
        "colab": {
          "base_uri": "https://localhost:8080/"
        },
        "id": "_LzuL1Gdb7Df",
        "outputId": "b0f887ff-c0e3-4544-d9c5-ef35cfe2ad65"
      },
      "execution_count": null,
      "outputs": [
        {
          "output_type": "execute_result",
          "data": {
            "text/plain": [
              "[<p class=\"p1\">hello</p>]"
            ]
          },
          "metadata": {},
          "execution_count": 19
        }
      ]
    },
    {
      "cell_type": "code",
      "source": [
        "# div 중에 id가 container인 것 찾기\n",
        "soup.find(\"div\", {\"id\" : \"container\"})"
      ],
      "metadata": {
        "colab": {
          "base_uri": "https://localhost:8080/"
        },
        "id": "r06wDQiE9Nu4",
        "outputId": "92c8508d-1762-400e-f317-d7f093a72630"
      },
      "execution_count": null,
      "outputs": [
        {
          "output_type": "execute_result",
          "data": {
            "text/plain": [
              "<div id=\"container\">\n",
              "<p class=\"p1\">hello</p>\n",
              "<p>Bye</p>\n",
              "</div>"
            ]
          },
          "metadata": {},
          "execution_count": 20
        }
      ]
    },
    {
      "cell_type": "code",
      "source": [
        "# p 중에 class가 p1인 것 찾기\n",
        "soup.find(\"p\", {\"class\": \"p1\"})"
      ],
      "metadata": {
        "colab": {
          "base_uri": "https://localhost:8080/"
        },
        "id": "VRVAqgmV9tMJ",
        "outputId": "ba7761b5-a0a5-40e9-e180-61be283db8f7"
      },
      "execution_count": null,
      "outputs": [
        {
          "output_type": "execute_result",
          "data": {
            "text/plain": [
              "<p class=\"p1\">hello</p>"
            ]
          },
          "metadata": {},
          "execution_count": 21
        }
      ]
    },
    {
      "cell_type": "code",
      "source": [
        "# 모든 p 찾기\n",
        "soup.find_all(\"p\")"
      ],
      "metadata": {
        "colab": {
          "base_uri": "https://localhost:8080/"
        },
        "id": "9CmLVQqz-Aug",
        "outputId": "1caca930-1925-472c-93c7-3cf2dad72a99"
      },
      "execution_count": null,
      "outputs": [
        {
          "output_type": "execute_result",
          "data": {
            "text/plain": [
              "[<p class=\"p1\">hello</p>, <p>Bye</p>]"
            ]
          },
          "metadata": {},
          "execution_count": 22
        }
      ]
    },
    {
      "cell_type": "code",
      "source": [
        "# 텍스트(text) 추출하기\n",
        "soup.find(\"p\", {\"class\" : \"p1\"}).text"
      ],
      "metadata": {
        "colab": {
          "base_uri": "https://localhost:8080/",
          "height": 35
        },
        "id": "IU05V3UO-Qgw",
        "outputId": "47341a6e-e1e5-44eb-c7f8-e7a1cff5723f"
      },
      "execution_count": null,
      "outputs": [
        {
          "output_type": "execute_result",
          "data": {
            "text/plain": [
              "'hello'"
            ],
            "application/vnd.google.colaboratory.intrinsic+json": {
              "type": "string"
            }
          },
          "metadata": {},
          "execution_count": 23
        }
      ]
    },
    {
      "cell_type": "code",
      "source": [
        "# 여러 개의 엘리먼트 중 제일 먼저 나오는 엘리먼트 1개만 나온다.\n",
        "soup.find(\"p\")"
      ],
      "metadata": {
        "colab": {
          "base_uri": "https://localhost:8080/"
        },
        "id": "CoYxiF9C-sbY",
        "outputId": "25e116c4-6863-44f4-de81-a7bc1ab4d11f"
      },
      "execution_count": null,
      "outputs": [
        {
          "output_type": "execute_result",
          "data": {
            "text/plain": [
              "<p class=\"p1\">hello</p>"
            ]
          },
          "metadata": {},
          "execution_count": 24
        }
      ]
    },
    {
      "cell_type": "code",
      "source": [
        "# 제일 마지막 p 태그 꺼내오기\n",
        "soup.find_all(\"p\")[-1]"
      ],
      "metadata": {
        "colab": {
          "base_uri": "https://localhost:8080/"
        },
        "id": "WYayRv_2_By_",
        "outputId": "4620ee12-bf42-4eea-fdeb-ffe2f6bbfac0"
      },
      "execution_count": null,
      "outputs": [
        {
          "output_type": "execute_result",
          "data": {
            "text/plain": [
              "<p>Bye</p>"
            ]
          },
          "metadata": {},
          "execution_count": 25
        }
      ]
    },
    {
      "cell_type": "markdown",
      "source": [
        "특수한 상황에서만 사용\n",
        "- `nextSibling` : 바로 밑에 형제"
      ],
      "metadata": {
        "id": "dErhoGUd_RWn"
      }
    },
    {
      "cell_type": "code",
      "source": [
        "p_p1 = soup.find(\"p\", {\"class\": \"p1\"})\n",
        "p_p1"
      ],
      "metadata": {
        "colab": {
          "base_uri": "https://localhost:8080/"
        },
        "id": "EcUVYyrR_bDY",
        "outputId": "1767c0aa-1a02-4ac6-e121-cbb22e29eb3f"
      },
      "execution_count": null,
      "outputs": [
        {
          "output_type": "execute_result",
          "data": {
            "text/plain": [
              "<p class=\"p1\">hello</p>"
            ]
          },
          "metadata": {},
          "execution_count": 26
        }
      ]
    },
    {
      "cell_type": "code",
      "source": [
        "p_p1.nextSibling"
      ],
      "metadata": {
        "colab": {
          "base_uri": "https://localhost:8080/",
          "height": 35
        },
        "id": "g9FBS-11_x0w",
        "outputId": "70f7e4dc-a1d5-4da2-e790-685bc007a032"
      },
      "execution_count": null,
      "outputs": [
        {
          "output_type": "execute_result",
          "data": {
            "text/plain": [
              "'\\n'"
            ],
            "application/vnd.google.colaboratory.intrinsic+json": {
              "type": "string"
            }
          },
          "metadata": {},
          "execution_count": 27
        }
      ]
    },
    {
      "cell_type": "code",
      "source": [
        "p_p1.nextSibling.nextSibling"
      ],
      "metadata": {
        "colab": {
          "base_uri": "https://localhost:8080/"
        },
        "id": "SS7URwL9_4F2",
        "outputId": "9f461cc3-58b8-407e-87bf-9bea93d8a89e"
      },
      "execution_count": null,
      "outputs": [
        {
          "output_type": "execute_result",
          "data": {
            "text/plain": [
              "<p>Bye</p>"
            ]
          },
          "metadata": {},
          "execution_count": 28
        }
      ]
    },
    {
      "cell_type": "markdown",
      "source": [
        "## 선택자(selector)를 사용해서 추출"
      ],
      "metadata": {
        "id": "_FZWpDLZABiG"
      }
    },
    {
      "cell_type": "code",
      "source": [
        "soup"
      ],
      "metadata": {
        "colab": {
          "base_uri": "https://localhost:8080/"
        },
        "id": "sxHuw5P3AWX_",
        "outputId": "bc53e3f4-3780-41ce-9e55-213ffa787c11"
      },
      "execution_count": null,
      "outputs": [
        {
          "output_type": "execute_result",
          "data": {
            "text/plain": [
              "\n",
              "<html>\n",
              "<head>\n",
              "<title>안녕하세요</title>\n",
              "</head>\n",
              "<body>\n",
              "<div id=\"container\">\n",
              "<p class=\"p1\">hello</p>\n",
              "<p>Bye</p>\n",
              "</div>\n",
              "</body>\n",
              "</html>"
            ]
          },
          "metadata": {},
          "execution_count": 29
        }
      ]
    },
    {
      "cell_type": "markdown",
      "source": [
        "- `soup.select(선택자)` : 선택자에 의해 엘리먼트를 **여러 개** 선택\n",
        "- `soup.select_one(선택자)` : 선택자에 의해 엘리먼트를 한 개만 선택\n"
      ],
      "metadata": {
        "id": "p05pDr8ZAaqX"
      }
    },
    {
      "cell_type": "code",
      "source": [
        "soup.select_one(\"#container\")"
      ],
      "metadata": {
        "colab": {
          "base_uri": "https://localhost:8080/"
        },
        "id": "fWPUbAhLAqhn",
        "outputId": "773d1445-dee8-4955-d073-6ec8c2580361"
      },
      "execution_count": null,
      "outputs": [
        {
          "output_type": "execute_result",
          "data": {
            "text/plain": [
              "<div id=\"container\">\n",
              "<p class=\"p1\">hello</p>\n",
              "<p>Bye</p>\n",
              "</div>"
            ]
          },
          "metadata": {},
          "execution_count": 30
        }
      ]
    },
    {
      "cell_type": "code",
      "source": [
        "soup.select_one(\"#container > .p1\").text"
      ],
      "metadata": {
        "colab": {
          "base_uri": "https://localhost:8080/",
          "height": 35
        },
        "id": "VNGBdbfIBDSO",
        "outputId": "a1601558-4a16-4cc8-fb86-4b22d70df8bd"
      },
      "execution_count": null,
      "outputs": [
        {
          "output_type": "execute_result",
          "data": {
            "text/plain": [
              "'hello'"
            ],
            "application/vnd.google.colaboratory.intrinsic+json": {
              "type": "string"
            }
          },
          "metadata": {},
          "execution_count": 31
        }
      ]
    },
    {
      "cell_type": "code",
      "source": [
        "soup.select(\"p\")"
      ],
      "metadata": {
        "colab": {
          "base_uri": "https://localhost:8080/"
        },
        "id": "6TmBNlElBPLF",
        "outputId": "956a7cdb-287b-4040-9e3d-fac2baf79cb9"
      },
      "execution_count": null,
      "outputs": [
        {
          "output_type": "execute_result",
          "data": {
            "text/plain": [
              "[<p class=\"p1\">hello</p>, <p>Bye</p>]"
            ]
          },
          "metadata": {},
          "execution_count": 32
        }
      ]
    },
    {
      "cell_type": "markdown",
      "source": [
        "## 속성 값 추출"
      ],
      "metadata": {
        "id": "psPF4sE7BZQw"
      }
    },
    {
      "cell_type": "code",
      "source": [
        "soup.select_one(\".p1\")[\"class\"]"
      ],
      "metadata": {
        "colab": {
          "base_uri": "https://localhost:8080/"
        },
        "id": "cHIfc3ZOBm93",
        "outputId": "f8d43b8e-caef-4a41-d2cc-4a3f9397b574"
      },
      "execution_count": null,
      "outputs": [
        {
          "output_type": "execute_result",
          "data": {
            "text/plain": [
              "['p1']"
            ]
          },
          "metadata": {},
          "execution_count": 33
        }
      ]
    },
    {
      "cell_type": "code",
      "source": [
        "soup.select_one(\".p1\").get(\"class\")"
      ],
      "metadata": {
        "colab": {
          "base_uri": "https://localhost:8080/"
        },
        "id": "s4RvcmpKByak",
        "outputId": "22d48469-7446-4467-da47-386a8a545fc2"
      },
      "execution_count": null,
      "outputs": [
        {
          "output_type": "execute_result",
          "data": {
            "text/plain": [
              "['p1']"
            ]
          },
          "metadata": {},
          "execution_count": 34
        }
      ]
    },
    {
      "cell_type": "markdown",
      "source": [
        "# 네이버 환율 정보 가져오기\n",
        "- 웹에 접속을 해야 하기 때문에 `requests` 모듈 활용\n",
        "- html문서를 가져오고 Element 객체화를 시키기 위해서 BeautifulSoup 필요"
      ],
      "metadata": {
        "id": "pSc1BztRB8f8"
      }
    },
    {
      "cell_type": "code",
      "source": [
        "import requests\n",
        "from bs4 import BeautifulSoup"
      ],
      "metadata": {
        "id": "oJ2nAfqFClJ9"
      },
      "execution_count": null,
      "outputs": []
    },
    {
      "cell_type": "code",
      "source": [
        "URL = \"https://finance.naver.com/marketindex/\""
      ],
      "metadata": {
        "id": "BsXLeok1Cr6N"
      },
      "execution_count": null,
      "outputs": []
    },
    {
      "cell_type": "code",
      "source": [
        "response = requests.get(URL)\n",
        "page = response.content # 접속한 웹 사이트의 html 코드를 가져오기\n",
        "page"
      ],
      "metadata": {
        "id": "yruysu_bDWS8"
      },
      "execution_count": null,
      "outputs": []
    },
    {
      "cell_type": "code",
      "source": [
        "soup = BeautifulSoup(page, 'html.parser')\n",
        "soup"
      ],
      "metadata": {
        "id": "ptvZDU5QD0UT"
      },
      "execution_count": null,
      "outputs": []
    },
    {
      "cell_type": "code",
      "source": [
        "exchange_list = soup.select_one(\"#exchangeList\")\n",
        "exchange_list"
      ],
      "metadata": {
        "id": "BXzHWz0vD9KT"
      },
      "execution_count": null,
      "outputs": []
    },
    {
      "cell_type": "code",
      "source": [
        "fin_list = exchange_list.find_all(\"li\") # exchange_list.select(\"li\")\n",
        "fin_list"
      ],
      "metadata": {
        "id": "7vZJYClnGKzq"
      },
      "execution_count": null,
      "outputs": []
    },
    {
      "cell_type": "code",
      "source": [
        "sample_li = fin_list[0]\n",
        "sample_li"
      ],
      "metadata": {
        "id": "kumTTQyCG2AJ"
      },
      "execution_count": null,
      "outputs": []
    },
    {
      "cell_type": "code",
      "source": [
        "c_name = sample_li.find(\"h3\", {\"class\":\"h_lst\"}).text\n",
        "c_name"
      ],
      "metadata": {
        "colab": {
          "base_uri": "https://localhost:8080/",
          "height": 35
        },
        "id": "EMMIY0e_HPBo",
        "outputId": "b9a35d80-1290-47bb-d0bb-93b7e452f9f5"
      },
      "execution_count": null,
      "outputs": [
        {
          "output_type": "execute_result",
          "data": {
            "text/plain": [
              "'미국 USD'"
            ],
            "application/vnd.google.colaboratory.intrinsic+json": {
              "type": "string"
            }
          },
          "metadata": {},
          "execution_count": 42
        }
      ]
    },
    {
      "cell_type": "code",
      "source": [
        "c_name = sample_li.select_one(\"h3.h_lst\").text\n",
        "c_name"
      ],
      "metadata": {
        "colab": {
          "base_uri": "https://localhost:8080/",
          "height": 35
        },
        "id": "mYeICazFHrL4",
        "outputId": "83d82e39-c64c-449e-817d-73fac596c19e"
      },
      "execution_count": null,
      "outputs": [
        {
          "output_type": "execute_result",
          "data": {
            "text/plain": [
              "'미국 USD'"
            ],
            "application/vnd.google.colaboratory.intrinsic+json": {
              "type": "string"
            }
          },
          "metadata": {},
          "execution_count": 43
        }
      ]
    },
    {
      "cell_type": "code",
      "source": [
        "exchange_rate = sample_li.select_one(\"span.value\").text\n",
        "exchange_rate"
      ],
      "metadata": {
        "colab": {
          "base_uri": "https://localhost:8080/",
          "height": 35
        },
        "id": "JvrTn7adH3BI",
        "outputId": "1ae8e7c1-b6f5-4297-b6fe-f9b9897842a5"
      },
      "execution_count": null,
      "outputs": [
        {
          "output_type": "execute_result",
          "data": {
            "text/plain": [
              "'1,349.50'"
            ],
            "application/vnd.google.colaboratory.intrinsic+json": {
              "type": "string"
            }
          },
          "metadata": {},
          "execution_count": 44
        }
      ]
    },
    {
      "cell_type": "code",
      "source": [
        "change = sample_li.select_one(\"span.change\").text\n",
        "change"
      ],
      "metadata": {
        "colab": {
          "base_uri": "https://localhost:8080/",
          "height": 35
        },
        "id": "jqcWwAQYIHYg",
        "outputId": "37f2db32-bf4a-43fe-e29d-d8ab72bd1e0e"
      },
      "execution_count": null,
      "outputs": [
        {
          "output_type": "execute_result",
          "data": {
            "text/plain": [
              "'4.50'"
            ],
            "application/vnd.google.colaboratory.intrinsic+json": {
              "type": "string"
            }
          },
          "metadata": {},
          "execution_count": 45
        }
      ]
    },
    {
      "cell_type": "code",
      "source": [
        "updown = sample_li.select(\"span.blind\")\n",
        "updown[-1].text"
      ],
      "metadata": {
        "colab": {
          "base_uri": "https://localhost:8080/",
          "height": 35
        },
        "id": "NtlGD0-CY4VT",
        "outputId": "2ebf5272-2bd0-4b12-abee-8fb2c9c4b02c"
      },
      "execution_count": null,
      "outputs": [
        {
          "output_type": "execute_result",
          "data": {
            "text/plain": [
              "'상승'"
            ],
            "application/vnd.google.colaboratory.intrinsic+json": {
              "type": "string"
            }
          },
          "metadata": {},
          "execution_count": 46
        }
      ]
    },
    {
      "cell_type": "code",
      "source": [
        "updown = sample_li.select_one(\"span.change\").nextSibling.nextSibling.text\n",
        "updown"
      ],
      "metadata": {
        "colab": {
          "base_uri": "https://localhost:8080/",
          "height": 35
        },
        "id": "fX0p-mVMZFzh",
        "outputId": "a6827cd6-90f6-4a18-f2a6-a4eb25c46724"
      },
      "execution_count": null,
      "outputs": [
        {
          "output_type": "execute_result",
          "data": {
            "text/plain": [
              "'상승'"
            ],
            "application/vnd.google.colaboratory.intrinsic+json": {
              "type": "string"
            }
          },
          "metadata": {},
          "execution_count": 47
        }
      ]
    },
    {
      "cell_type": "code",
      "source": [
        "c_name_list = []\n",
        "exchange_rate_list = []\n",
        "change_list = []\n",
        "updown_list = []\n",
        "\n",
        "for fin in fin_list:\n",
        "  c_name = fin.select_one(\"h3.h_lst\").text\n",
        "  exchange_rate = fin.select_one(\"span.value\").text\n",
        "  change = fin.select_one(\"span.change\").text\n",
        "  updown = fin.select_one(\"span.change\").nextSibling.nextSibling.text\n",
        "\n",
        "  print(c_name, exchange_rate, change, updown)\n",
        "\n",
        "  c_name_list.append(c_name)\n",
        "  exchange_rate_list.append(exchange_rate)\n",
        "  change_list.append(change)\n",
        "  updown_list.append(updown)"
      ],
      "metadata": {
        "colab": {
          "base_uri": "https://localhost:8080/"
        },
        "id": "jbyLicF_Z9Ih",
        "outputId": "85289ea9-1265-4208-cc0e-725abece97aa"
      },
      "execution_count": null,
      "outputs": [
        {
          "output_type": "stream",
          "name": "stdout",
          "text": [
            "미국 USD 1,349.50 4.50 상승\n",
            "일본 JPY(100엔) 900.99 2.08 상승\n",
            "유럽연합 EUR 1,422.24 2.32 상승\n",
            "중국 CNY 184.65 0.52 상승\n"
          ]
        }
      ]
    },
    {
      "cell_type": "code",
      "source": [
        "fin_datas = {\n",
        "    \"국가\": c_name_list,\n",
        "    \"환율\": exchange_rate_list,\n",
        "    \"변동\": change_list,\n",
        "    \"등락\": updown_list\n",
        "}\n",
        "fin_datas"
      ],
      "metadata": {
        "colab": {
          "base_uri": "https://localhost:8080/"
        },
        "id": "KvsuK95QbEop",
        "outputId": "dda511f1-ed1d-465d-a2c1-01ee5c8d2239"
      },
      "execution_count": null,
      "outputs": [
        {
          "output_type": "execute_result",
          "data": {
            "text/plain": [
              "{'국가': ['미국 USD', '일본 JPY(100엔)', '유럽연합 EUR', '중국 CNY'],\n",
              " '환율': ['1,349.50', '900.99', '1,422.24', '184.65'],\n",
              " '변동': ['4.50', '2.08', '2.32', '0.52'],\n",
              " '등락': ['상승', '상승', '상승', '상승']}"
            ]
          },
          "metadata": {},
          "execution_count": 49
        }
      ]
    },
    {
      "cell_type": "code",
      "source": [
        "import pandas as pd\n",
        "\n",
        "df_finance = pd.DataFrame(fin_datas)\n",
        "df_finance.to_csv(\"fin_2220415.csv\")"
      ],
      "metadata": {
        "id": "9h0NChvxdWIx"
      },
      "execution_count": null,
      "outputs": []
    },
    {
      "cell_type": "code",
      "source": [
        "sample_li.select_one(\"span.blindasfdkdljks\") # 선택자를 사용해서 선택을 했는데, 존재하지 않는 경우 : None으로 처리"
      ],
      "metadata": {
        "id": "izCePGB-dku-"
      },
      "execution_count": null,
      "outputs": []
    },
    {
      "cell_type": "code",
      "source": [
        "# python boolean 타입의 특징\n",
        "a = None\n",
        "\n",
        "# a에 값이 존재하면 True, 존재하지 않으면 False\n",
        "# 0이라는 값의 의미는 존재하지 않는다는 정수\n",
        "if a :\n",
        "  print(\"hello\")\n",
        "else:\n",
        "  print(\"bye\")"
      ],
      "metadata": {
        "colab": {
          "base_uri": "https://localhost:8080/"
        },
        "id": "4RnIxMidfUrt",
        "outputId": "a4dba365-b902-4b44-ad8e-20deaf26059c"
      },
      "execution_count": null,
      "outputs": [
        {
          "output_type": "stream",
          "name": "stdout",
          "text": [
            "bye\n"
          ]
        }
      ]
    },
    {
      "cell_type": "code",
      "source": [
        "a = sample_li.select_one(\"span.blind\")\n",
        "print(a)\n",
        "if a :\n",
        "  print(\"hello\")\n",
        "else:\n",
        "  print(\"bye\")"
      ],
      "metadata": {
        "colab": {
          "base_uri": "https://localhost:8080/"
        },
        "id": "-gisdkCAfvO1",
        "outputId": "44a8cf90-459f-41a5-dd0b-2d0404606238"
      },
      "execution_count": null,
      "outputs": [
        {
          "output_type": "stream",
          "name": "stdout",
          "text": [
            "<span class=\"blind\">미국 USD</span>\n",
            "hello\n"
          ]
        }
      ]
    },
    {
      "cell_type": "markdown",
      "source": [
        "# 무신사 반팔티 크롤링"
      ],
      "metadata": {
        "id": "PIana2O2gMJM"
      }
    },
    {
      "cell_type": "code",
      "source": [
        "URL = \"https://www.musinsa.com/category/001001\"\n",
        "\n",
        "res = requests.get(URL)\n",
        "res"
      ],
      "metadata": {
        "colab": {
          "base_uri": "https://localhost:8080/"
        },
        "id": "qUvFWlye0aiT",
        "outputId": "e2e90862-b8df-4ff5-af23-7e3e34a583c9"
      },
      "execution_count": null,
      "outputs": [
        {
          "output_type": "execute_result",
          "data": {
            "text/plain": [
              "<Response [200]>"
            ]
          },
          "metadata": {},
          "execution_count": 54
        }
      ]
    },
    {
      "cell_type": "code",
      "source": [
        "res.content"
      ],
      "metadata": {
        "id": "cFLXT-q00tGs"
      },
      "execution_count": null,
      "outputs": []
    },
    {
      "cell_type": "code",
      "source": [
        "page = res.content\n",
        "soup = BeautifulSoup(page, 'html.parser')\n",
        "soup"
      ],
      "metadata": {
        "id": "Z8ZaocpO0wIL"
      },
      "execution_count": null,
      "outputs": []
    },
    {
      "cell_type": "code",
      "source": [
        "product_list = soup.select(\"#searchList > li\")\n",
        "len(product_list)"
      ],
      "metadata": {
        "colab": {
          "base_uri": "https://localhost:8080/"
        },
        "id": "VE1AWQJy07Je",
        "outputId": "b71e6e96-9aa8-4880-f53d-b0d0dead6a9c"
      },
      "execution_count": null,
      "outputs": [
        {
          "output_type": "execute_result",
          "data": {
            "text/plain": [
              "90"
            ]
          },
          "metadata": {},
          "execution_count": 57
        }
      ]
    },
    {
      "cell_type": "markdown",
      "source": [
        "테스트!!"
      ],
      "metadata": {
        "id": "v8T76c2V1Uma"
      }
    },
    {
      "cell_type": "code",
      "source": [
        "sample_item1 = product_list[0]\n",
        "sample_item1"
      ],
      "metadata": {
        "colab": {
          "base_uri": "https://localhost:8080/"
        },
        "id": "37D0hcKc1c4z",
        "outputId": "fd2918b5-deaf-49eb-e47e-acd93773e0a2"
      },
      "execution_count": null,
      "outputs": [
        {
          "output_type": "execute_result",
          "data": {
            "text/plain": [
              "<li class=\"li_box\" data-no=\"2086653\">\n",
              "<!-- 상단 좌측 라벨 -->\n",
              "<!-- 상단 우측 라벨 -->\n",
              "<div class=\"box-icon-right\">\n",
              "<span class=\"icon-reverse icon-box-musinsa\">무신사 단독</span>\n",
              "</div>\n",
              "<div class=\"icon_group\">\n",
              "<ul>\n",
              "<li class=\"icon_man sight_out\" title=\"남성\">남성</li>\n",
              "</ul>\n",
              "</div>\n",
              "<div class=\"li_inner\">\n",
              "<div class=\"list_img\">\n",
              "<a class=\"img-block\" href=\"//www.musinsa.com/app/goods/2086653\" name=\"goods_link\" title=\"레이어드 크루 넥 반팔 티셔츠_일반 기장 [화이트]\">\n",
              "<img alt=\"무신사 스탠다드(MUSINSA STANDARD) 레이어드 크루 넥 반팔 티셔츠_일반 기장 [화이트]\" class=\"lazyload lazy\" data-original=\"https://image.msscdn.net/images/goods_img/20210825/2086653/2086653_1_125.jpg\" src=\"//image.msscdn.net/images/no_image_125.png\">\n",
              "</img></a>\n",
              "</div>\n",
              "<div class=\"article_info\">\n",
              "<p class=\"item_title\"><a href=\"//www.musinsa.com/brands/musinsastandard\">무신사 스탠다드</a></p>\n",
              "<p class=\"list_info\">\n",
              "<a href=\"//www.musinsa.com/app/goods/2086653\" name=\"goods_link\" title=\"레이어드 크루 넥 반팔 티셔츠_일반 기장 [화이트]\">\n",
              "<strong class=\"txt_reserve\"></strong>\n",
              "                  레이어드 크루 넥 반팔 티셔츠_일반 기장 [화이트]\n",
              "                </a>\n",
              "</p>\n",
              "<p class=\"price\">\n",
              "                \n",
              "                16,900원\n",
              "              </p>\n",
              "<p class=\"membership\" onclick=\"viewMemberPrice('sPrice_2086653', '2086653', '0');\">MEMBERSHIP PRICE<span class=\"fr\">▼</span></p>\n",
              "<div class=\"member_price\" id=\"sPrice_2086653\" style=\"display:none; z-index: 9999;\">\n",
              "<p>무신사 회원가<span class=\"fr\"><a href=\"#\" onclick=\"viewMemberPrice('sPrice_2086653', '2086653', '0');return false;\">X</a></span></p>\n",
              "<ul>\n",
              "<li class=\"pertinent\" style=\"border-bottom:1px solid #ddd;\">\n",
              "<span>&gt; </span>\n",
              "                    비회원\n",
              "                    <span class=\"txt_price_member\">16,900원</span></li>\n",
              "</ul>\n",
              "</div>\n",
              "<p class=\"point\">\n",
              "<span class=\"img-score\"><span class=\"bar\" style=\"width:97%\"></span></span>\n",
              "<span class=\"count\">47,226</span>\n",
              "</p>\n",
              "<p class=\"txt_cnt_like\" data-goodsno=\"2086653\"></p>\n",
              "</div>\n",
              "</div>\n",
              "<div class=\"option\">\n",
              "<p class=\"option_btn\">\n",
              "<a data-goods-no=\"2086653\" href=\"#pol2086653\" onclick=\"viewOptionBox(2086653, 0); return false;\">OPTION ▼</a>\n",
              "</p>\n",
              "<div class=\"list_pol_goods\" id=\"pol2086653\" style=\"display:none;\"></div>\n",
              "</div>\n",
              "</li>"
            ]
          },
          "metadata": {},
          "execution_count": 58
        }
      ]
    },
    {
      "cell_type": "code",
      "source": [
        "# image url 가져오기\n",
        "sample_item1.select_one(\"img.lazyload\")[\"data-original\"]"
      ],
      "metadata": {
        "colab": {
          "base_uri": "https://localhost:8080/",
          "height": 35
        },
        "id": "kPoXPFus11Sz",
        "outputId": "745888c4-3e9c-4d48-a372-4a7777987828"
      },
      "execution_count": null,
      "outputs": [
        {
          "output_type": "execute_result",
          "data": {
            "text/plain": [
              "'https://image.msscdn.net/images/goods_img/20210825/2086653/2086653_1_125.jpg'"
            ],
            "application/vnd.google.colaboratory.intrinsic+json": {
              "type": "string"
            }
          },
          "metadata": {},
          "execution_count": 59
        }
      ]
    },
    {
      "cell_type": "code",
      "source": [
        "# 브랜드 가져오기\n",
        "sample_item1.select_one(\"p.item_title > a\").text"
      ],
      "metadata": {
        "colab": {
          "base_uri": "https://localhost:8080/",
          "height": 35
        },
        "id": "0C7MiYLe21LS",
        "outputId": "421a49eb-e0ef-4689-a21d-e960291e6d73"
      },
      "execution_count": null,
      "outputs": [
        {
          "output_type": "execute_result",
          "data": {
            "text/plain": [
              "'무신사 스탠다드'"
            ],
            "application/vnd.google.colaboratory.intrinsic+json": {
              "type": "string"
            }
          },
          "metadata": {},
          "execution_count": 60
        }
      ]
    },
    {
      "cell_type": "code",
      "source": [
        "# 상품명 가져오기\n",
        "sample_item1.select_one(\"p.list_info\").text.strip()"
      ],
      "metadata": {
        "colab": {
          "base_uri": "https://localhost:8080/",
          "height": 35
        },
        "id": "vAxTA4FZ3MUq",
        "outputId": "4cba26ed-0801-4c30-d468-b388515279d3"
      },
      "execution_count": null,
      "outputs": [
        {
          "output_type": "execute_result",
          "data": {
            "text/plain": [
              "'레이어드 크루 넥 반팔 티셔츠_일반 기장 [화이트]'"
            ],
            "application/vnd.google.colaboratory.intrinsic+json": {
              "type": "string"
            }
          },
          "metadata": {},
          "execution_count": 61
        }
      ]
    },
    {
      "cell_type": "code",
      "source": [
        "# 가격 가져오기\n",
        "int(sample_item1.select_one(\"p.price\").text.strip().replace(\",\", \"\").replace(\"원\", \"\"))"
      ],
      "metadata": {
        "colab": {
          "base_uri": "https://localhost:8080/"
        },
        "id": "-qJ4AZiA3g3M",
        "outputId": "58af75f4-e1ab-415d-cbac-afcab88f9ccb"
      },
      "execution_count": null,
      "outputs": [
        {
          "output_type": "execute_result",
          "data": {
            "text/plain": [
              "16900"
            ]
          },
          "metadata": {},
          "execution_count": 62
        }
      ]
    },
    {
      "cell_type": "code",
      "source": [
        "# 별점 개수 가져오기\n",
        "int(sample_item1.select_one(\"span.count\").text.replace(\",\", \"\"))"
      ],
      "metadata": {
        "colab": {
          "base_uri": "https://localhost:8080/"
        },
        "id": "f-uKcQzA38E4",
        "outputId": "3b7f378f-a797-4180-9d95-eed8ccc36766"
      },
      "execution_count": null,
      "outputs": [
        {
          "output_type": "execute_result",
          "data": {
            "text/plain": [
              "47226"
            ]
          },
          "metadata": {},
          "execution_count": 63
        }
      ]
    },
    {
      "cell_type": "code",
      "source": [
        "sample_item2 = product_list[1]\n",
        "sample_item2"
      ],
      "metadata": {
        "id": "PTsD00Rj4hex",
        "colab": {
          "base_uri": "https://localhost:8080/"
        },
        "outputId": "23052966-1c26-41f2-df0a-611d121b1f35"
      },
      "execution_count": null,
      "outputs": [
        {
          "output_type": "execute_result",
          "data": {
            "text/plain": [
              "<li class=\"li_box\" data-no=\"2690691\">\n",
              "<!-- 상단 좌측 라벨 -->\n",
              "<!-- 상단 우측 라벨 -->\n",
              "<div class=\"icon_group\">\n",
              "<ul>\n",
              "<li class=\"icon_man sight_out\" title=\"남성\">남성</li>\n",
              "</ul>\n",
              "</div>\n",
              "<div class=\"li_inner\">\n",
              "<div class=\"list_img\">\n",
              "<a class=\"img-block\" href=\"//www.musinsa.com/app/goods/2690691\" name=\"goods_link\" title=\"무지 머슬핏 반팔 13컬러\">\n",
              "<img alt=\"허그본(HUGVONE) 무지 머슬핏 반팔 13컬러\" class=\"lazyload lazy\" data-original=\"https://image.msscdn.net/images/goods_img/20220801/2690691/2690691_1_125.jpg\" src=\"//image.msscdn.net/images/no_image_125.png\">\n",
              "</img></a>\n",
              "</div>\n",
              "<div class=\"article_info\">\n",
              "<p class=\"item_title\"><a href=\"//www.musinsa.com/brands/hugvone\">허그본</a></p>\n",
              "<p class=\"list_info\">\n",
              "<a href=\"//www.musinsa.com/app/goods/2690691\" name=\"goods_link\" title=\"무지 머슬핏 반팔 13컬러\">\n",
              "<strong class=\"txt_reserve\"></strong>\n",
              "                  무지 머슬핏 반팔 13컬러\n",
              "                </a>\n",
              "</p>\n",
              "<p class=\"price\">\n",
              "                \n",
              "                22,000원\n",
              "              </p>\n",
              "<p class=\"mu-icon mu-icon-coupon\">\n",
              "<span class=\"txt_discount_price\">-2,200원</span>\n",
              "</p>\n",
              "<p class=\"membership\" onclick=\"viewMemberPrice('sPrice_2690691', '2690691', '0');\">MEMBERSHIP PRICE<span class=\"fr\">▼</span></p>\n",
              "<div class=\"member_price\" id=\"sPrice_2690691\" style=\"display:none; z-index: 9999;\">\n",
              "<p>무신사 회원가<span class=\"fr\"><a href=\"#\" onclick=\"viewMemberPrice('sPrice_2690691', '2690691', '0');return false;\">X</a></span></p>\n",
              "<ul>\n",
              "<li class=\"pertinent\" style=\"border-bottom:1px solid #ddd;\">\n",
              "<span>&gt; </span>\n",
              "                    비회원\n",
              "                    <span class=\"txt_price_member\">22,000원</span></li>\n",
              "</ul>\n",
              "</div>\n",
              "<p class=\"point\">\n",
              "<span class=\"img-score\"><span class=\"bar\" style=\"width:97%\"></span></span>\n",
              "<span class=\"count\">10,302</span>\n",
              "</p>\n",
              "<p class=\"txt_cnt_like\" data-goodsno=\"2690691\"></p>\n",
              "</div>\n",
              "</div>\n",
              "<div class=\"option\">\n",
              "<p class=\"option_btn\">\n",
              "<a data-goods-no=\"2690691\" href=\"#pol2690691\" onclick=\"viewOptionBox(2690691, 0); return false;\">OPTION ▼</a>\n",
              "</p>\n",
              "<div class=\"list_pol_goods\" id=\"pol2690691\" style=\"display:none;\"></div>\n",
              "</div>\n",
              "</li>"
            ]
          },
          "metadata": {},
          "execution_count": 64
        }
      ]
    },
    {
      "cell_type": "code",
      "source": [
        "# 나쁜 방법은 아니에요!!\n",
        "sample_item2.select_one(\"p.price\").text.strip().split()[1]"
      ],
      "metadata": {
        "colab": {
          "base_uri": "https://localhost:8080/",
          "height": 203
        },
        "id": "nuP1lqw94-ig",
        "outputId": "8d718fd3-9b7e-4cac-e32b-75d49ba5562d"
      },
      "execution_count": null,
      "outputs": [
        {
          "output_type": "error",
          "ename": "IndexError",
          "evalue": "ignored",
          "traceback": [
            "\u001b[0;31m---------------------------------------------------------------------------\u001b[0m",
            "\u001b[0;31mIndexError\u001b[0m                                Traceback (most recent call last)",
            "\u001b[0;32m<ipython-input-65-704207e82e15>\u001b[0m in \u001b[0;36m<cell line: 2>\u001b[0;34m()\u001b[0m\n\u001b[1;32m      1\u001b[0m \u001b[0;31m# 나쁜 방법은 아니에요!!\u001b[0m\u001b[0;34m\u001b[0m\u001b[0;34m\u001b[0m\u001b[0m\n\u001b[0;32m----> 2\u001b[0;31m \u001b[0msample_item2\u001b[0m\u001b[0;34m.\u001b[0m\u001b[0mselect_one\u001b[0m\u001b[0;34m(\u001b[0m\u001b[0;34m\"p.price\"\u001b[0m\u001b[0;34m)\u001b[0m\u001b[0;34m.\u001b[0m\u001b[0mtext\u001b[0m\u001b[0;34m.\u001b[0m\u001b[0mstrip\u001b[0m\u001b[0;34m(\u001b[0m\u001b[0;34m)\u001b[0m\u001b[0;34m.\u001b[0m\u001b[0msplit\u001b[0m\u001b[0;34m(\u001b[0m\u001b[0;34m)\u001b[0m\u001b[0;34m[\u001b[0m\u001b[0;36m1\u001b[0m\u001b[0;34m]\u001b[0m\u001b[0;34m\u001b[0m\u001b[0;34m\u001b[0m\u001b[0m\n\u001b[0m",
            "\u001b[0;31mIndexError\u001b[0m: list index out of range"
          ]
        }
      ]
    },
    {
      "cell_type": "code",
      "source": [
        "sample_item2.select_one(\"p.price > del\").nextSibling.strip().replace(\",\", \"\").replace(\"원\", \"\")"
      ],
      "metadata": {
        "id": "J5YFK9ac5EYw"
      },
      "execution_count": null,
      "outputs": []
    },
    {
      "cell_type": "code",
      "source": [
        "product_img_url_list = []\n",
        "product_brand_list = []\n",
        "product_name_list = []\n",
        "product_price_list = []\n",
        "product_star_count_list = []\n",
        "\n",
        "for product in product_list:\n",
        "  img_url = product.select_one(\"img.lazyload\")['data-original']\n",
        "\n",
        "  # 브랜드\n",
        "  if len(product.select(\"p.item_title\")) > 1:\n",
        "    product_title = product.select(\"p.item_title\")[-1].text\n",
        "  else:\n",
        "    product_title = product.select_one(\"p.item_title\").text\n",
        "\n",
        "  # 상품명\n",
        "  product_name = product.select_one(\"p.list_info\").text.strip()\n",
        "\n",
        "  # 가격\n",
        "  price_del_elem = product.select_one(\"p.price\").find(\"del\")\n",
        "\n",
        "  # <del> 태그가 있으면..\n",
        "  if price_del_elem:\n",
        "    product_price = price_del_elem.nextSibling.strip()\n",
        "  else: # <del> 태그가 없으면..\n",
        "    product_price = product.select_one(\"p.price\").text.strip()\n",
        "\n",
        "  product_price = int(product_price.replace(\",\", \"\").replace(\"원\", \"\"))\n",
        "\n",
        "  # 별점 등록 수\n",
        "  star_count = int(product.select_one(\"p.point > span.count\").text.replace(\",\", \"\"))\n",
        "\n",
        "  product_img_url_list.append(img_url)\n",
        "  product_brand_list.append(product_title)\n",
        "  product_name_list.append(product_name)\n",
        "  product_price_list.append(product_price)\n",
        "  product_star_count_list.append(star_count)"
      ],
      "metadata": {
        "id": "wBcuE1fR5lFI"
      },
      "execution_count": null,
      "outputs": []
    },
    {
      "cell_type": "code",
      "source": [
        "import pandas as pd\n",
        "datas = {\n",
        "    \"상품이미지URL\": product_img_url_list,\n",
        "    \"상품브랜드\": product_brand_list,\n",
        "    \"상품명\": product_name_list,\n",
        "    \"상품가격\": product_price_list,\n",
        "    \"상품별점등록수\": product_star_count_list\n",
        "}\n",
        "\n",
        "df = pd.DataFrame(datas)\n",
        "df.head()"
      ],
      "metadata": {
        "id": "KGYK4G2e68iO"
      },
      "execution_count": null,
      "outputs": []
    },
    {
      "cell_type": "code",
      "source": [
        "df.groupby(\"상품브랜드\").mean()"
      ],
      "metadata": {
        "id": "05nbgyW37DY2"
      },
      "execution_count": null,
      "outputs": []
    },
    {
      "cell_type": "code",
      "source": [
        "df.tail()"
      ],
      "metadata": {
        "id": "PAnx-_FV7H9H"
      },
      "execution_count": null,
      "outputs": []
    },
    {
      "cell_type": "code",
      "source": [
        "sample_item21 = product_list[21]\n",
        "if len(sample_item21.select(\"p.item_title\")) > 1:\n",
        "  print(sample_item21.select(\"p.item_title\")[-1])\n",
        "else:\n",
        "  print(sample_item21.select_one(\"p.item_title\"))"
      ],
      "metadata": {
        "id": "m3q0Ppno7YFt"
      },
      "execution_count": null,
      "outputs": []
    },
    {
      "cell_type": "code",
      "source": [
        "sample_item1"
      ],
      "metadata": {
        "id": "9lxKx_b171dV"
      },
      "execution_count": null,
      "outputs": []
    },
    {
      "cell_type": "code",
      "source": [
        "sample_item1.select_one(\"p.txt_cnt_like\")"
      ],
      "metadata": {
        "id": "GAvKXPptLDDK"
      },
      "execution_count": null,
      "outputs": []
    },
    {
      "cell_type": "code",
      "source": [
        "import json\n",
        "\n",
        "API_URL = \"https://like.musinsa.com/like/api/v1/liketypes/goods/counts\"\n",
        "params = {\n",
        "    \"relationIds\":[2086653] # payload 탭에서 확인!\n",
        "}\n",
        "\n",
        "headers = {\n",
        "    \"content-type\": \"application/json\",\n",
        "    \"user-agent\": \"Mozilla/5.0 (Windows NT 10.0; Win64; x64) AppleWebKit/537.36 (KHTML, like Gecko) Chrome/100.0.4896.88 Safari/537.36\"\n",
        "}\n",
        "\n",
        "response = requests.post(\n",
        "    API_URL,\n",
        "    data= json.dumps(params), # json.dumps : 딕셔너리를 json 문자열화 시켜준다\n",
        "    headers=headers\n",
        ")\n",
        "\n",
        "response.json()"
      ],
      "metadata": {
        "id": "g7I2I-CMLaiZ"
      },
      "execution_count": null,
      "outputs": []
    },
    {
      "cell_type": "code",
      "source": [
        "data"
      ],
      "metadata": {
        "id": "rI14p1IPMUAg"
      },
      "execution_count": null,
      "outputs": []
    },
    {
      "cell_type": "code",
      "source": [],
      "metadata": {
        "id": "EyFXUbdOTOea"
      },
      "execution_count": null,
      "outputs": []
    }
  ]
}