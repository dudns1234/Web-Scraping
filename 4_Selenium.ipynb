{
 "cells": [
  {
   "cell_type": "code",
   "execution_count": 1,
   "id": "2d940b1e-7cc6-4535-8203-f85563937ddd",
   "metadata": {},
   "outputs": [
    {
     "name": "stdout",
     "output_type": "stream",
     "text": [
      "Collecting selenium\n",
      "  Using cached selenium-4.14.0-py3-none-any.whl (9.9 MB)\n",
      "Requirement already satisfied: urllib3[socks]<3,>=1.26 in c:\\users\\yujin\\appdata\\local\\programs\\python\\python311\\lib\\site-packages (from selenium) (2.0.4)\n",
      "Collecting trio~=0.17 (from selenium)\n",
      "  Using cached trio-0.22.2-py3-none-any.whl (400 kB)\n",
      "Collecting trio-websocket~=0.9 (from selenium)\n",
      "  Using cached trio_websocket-0.11.1-py3-none-any.whl (17 kB)\n",
      "Requirement already satisfied: certifi>=2021.10.8 in c:\\users\\yujin\\appdata\\local\\programs\\python\\python311\\lib\\site-packages (from selenium) (2023.7.22)\n",
      "Requirement already satisfied: attrs>=20.1.0 in c:\\users\\yujin\\appdata\\local\\programs\\python\\python311\\lib\\site-packages (from trio~=0.17->selenium) (23.1.0)\n",
      "Collecting sortedcontainers (from trio~=0.17->selenium)\n",
      "  Using cached sortedcontainers-2.4.0-py2.py3-none-any.whl (29 kB)\n",
      "Requirement already satisfied: idna in c:\\users\\yujin\\appdata\\local\\programs\\python\\python311\\lib\\site-packages (from trio~=0.17->selenium) (3.4)\n",
      "Collecting outcome (from trio~=0.17->selenium)\n",
      "  Using cached outcome-1.3.0-py2.py3-none-any.whl (10 kB)\n",
      "Requirement already satisfied: sniffio in c:\\users\\yujin\\appdata\\local\\programs\\python\\python311\\lib\\site-packages (from trio~=0.17->selenium) (1.3.0)\n",
      "Requirement already satisfied: cffi>=1.14 in c:\\users\\yujin\\appdata\\local\\programs\\python\\python311\\lib\\site-packages (from trio~=0.17->selenium) (1.15.1)\n",
      "Collecting wsproto>=0.14 (from trio-websocket~=0.9->selenium)\n",
      "  Using cached wsproto-1.2.0-py3-none-any.whl (24 kB)\n",
      "Collecting pysocks!=1.5.7,<2.0,>=1.5.6 (from urllib3[socks]<3,>=1.26->selenium)\n",
      "  Using cached PySocks-1.7.1-py3-none-any.whl (16 kB)\n",
      "Requirement already satisfied: pycparser in c:\\users\\yujin\\appdata\\local\\programs\\python\\python311\\lib\\site-packages (from cffi>=1.14->trio~=0.17->selenium) (2.21)\n",
      "Collecting h11<1,>=0.9.0 (from wsproto>=0.14->trio-websocket~=0.9->selenium)\n",
      "  Using cached h11-0.14.0-py3-none-any.whl (58 kB)\n",
      "Installing collected packages: sortedcontainers, pysocks, outcome, h11, wsproto, trio, trio-websocket, selenium\n",
      "Successfully installed h11-0.14.0 outcome-1.3.0 pysocks-1.7.1 selenium-4.14.0 sortedcontainers-2.4.0 trio-0.22.2 trio-websocket-0.11.1 wsproto-1.2.0\n"
     ]
    },
    {
     "name": "stderr",
     "output_type": "stream",
     "text": [
      "\n",
      "[notice] A new release of pip is available: 23.1.2 -> 23.3\n",
      "[notice] To update, run: python.exe -m pip install --upgrade pip\n"
     ]
    }
   ],
   "source": [
    "!pip install selenium"
   ]
  },
  {
   "cell_type": "code",
   "execution_count": 2,
   "id": "c6273947-47b9-4741-b126-1a682f26adb8",
   "metadata": {},
   "outputs": [
    {
     "name": "stdout",
     "output_type": "stream",
     "text": [
      "Collecting webdriver_manager\n",
      "  Using cached webdriver_manager-4.0.1-py2.py3-none-any.whl (27 kB)\n",
      "Requirement already satisfied: requests in c:\\users\\yujin\\appdata\\local\\programs\\python\\python311\\lib\\site-packages (from webdriver_manager) (2.31.0)\n",
      "Collecting python-dotenv (from webdriver_manager)\n",
      "  Using cached python_dotenv-1.0.0-py3-none-any.whl (19 kB)\n",
      "Requirement already satisfied: packaging in c:\\users\\yujin\\appdata\\local\\programs\\python\\python311\\lib\\site-packages (from webdriver_manager) (23.1)\n",
      "Requirement already satisfied: charset-normalizer<4,>=2 in c:\\users\\yujin\\appdata\\local\\programs\\python\\python311\\lib\\site-packages (from requests->webdriver_manager) (3.2.0)\n",
      "Requirement already satisfied: idna<4,>=2.5 in c:\\users\\yujin\\appdata\\local\\programs\\python\\python311\\lib\\site-packages (from requests->webdriver_manager) (3.4)\n",
      "Requirement already satisfied: urllib3<3,>=1.21.1 in c:\\users\\yujin\\appdata\\local\\programs\\python\\python311\\lib\\site-packages (from requests->webdriver_manager) (2.0.4)\n",
      "Requirement already satisfied: certifi>=2017.4.17 in c:\\users\\yujin\\appdata\\local\\programs\\python\\python311\\lib\\site-packages (from requests->webdriver_manager) (2023.7.22)\n",
      "Installing collected packages: python-dotenv, webdriver_manager\n",
      "Successfully installed python-dotenv-1.0.0 webdriver_manager-4.0.1\n"
     ]
    },
    {
     "name": "stderr",
     "output_type": "stream",
     "text": [
      "\n",
      "[notice] A new release of pip is available: 23.1.2 -> 23.3\n",
      "[notice] To update, run: python.exe -m pip install --upgrade pip\n"
     ]
    }
   ],
   "source": [
    "!pip install webdriver_manager"
   ]
  },
  {
   "cell_type": "code",
   "execution_count": 1,
   "id": "f3b4abab-e609-46a7-b222-0be579810e48",
   "metadata": {},
   "outputs": [],
   "source": [
    "from selenium import webdriver\n",
    "from selenium.webdriver.chrome.service import Service\n",
    "from webdriver_manager.chrome import ChromeDriverManager\n",
    "from selenium.webdriver.common.by import By"
   ]
  },
  {
   "cell_type": "code",
   "execution_count": 2,
   "id": "66919837-6166-4582-9fb4-88531f1fc804",
   "metadata": {},
   "outputs": [],
   "source": [
    "def get_chrome_driver():\n",
    "    # 각종 크롬 옵션을 세팅\n",
    "    chrome_options = webdriver.ChromeOptions()\n",
    "\n",
    "    # 드라이버 생성\n",
    "    driver = webdriver.Chrome(\n",
    "    service = Service(ChromeDriverManager().install()),\n",
    "    options = chrome_options\n",
    "    )\n",
    "\n",
    "    return driver\n",
    "\n",
    "driver = get_chrome_driver()"
   ]
  },
  {
   "cell_type": "code",
   "execution_count": 3,
   "id": "6f9980dc-2bc6-4b51-8185-0d3f66583c03",
   "metadata": {},
   "outputs": [],
   "source": [
    "# 1. 원하는 url로 요청하기\n",
    "driver.get(\"https://www.naver.com\")"
   ]
  },
  {
   "cell_type": "code",
   "execution_count": 4,
   "id": "e539757a-ec39-4b84-ba4f-9a88107b8eea",
   "metadata": {},
   "outputs": [],
   "source": [
    "query_elem = driver.find_element(\n",
    "    By.CSS_SELECTOR,\n",
    "    \"#query\"\n",
    ")\n",
    "\n",
    "query_elem"
   ]
  },
  {
   "cell_type": "code",
   "execution_count": 5,
   "id": "35aad434-171c-4088-80d7-ed734986eb49",
   "metadata": {},
   "outputs": [],
   "source": [
    "query_elem.send_keys(\"김채원\")\n",
    "\n",
    "# 바로도 가능\n",
    "# driver.find_element(\n",
    "#     By.CSS_SELECTOR,\n",
    "#     \"#query\"\n",
    "# ).send_keys(\"바보야\")"
   ]
  },
  {
   "cell_type": "code",
   "execution_count": 6,
   "id": "003dd101-f170-4a4c-bd76-f8c61687037a",
   "metadata": {},
   "outputs": [],
   "source": [
    "query_elem.clear()\n",
    "\n",
    "# 바로도 가\n",
    "# driver.find_element(\n",
    "#     By.CSS_SELECTOR,\n",
    "#     \"#query\"\n",
    "# ).clear()"
   ]
  },
  {
   "cell_type": "code",
   "execution_count": 7,
   "id": "736bee80-6f7f-4885-86de-88485d55f38d",
   "metadata": {},
   "outputs": [],
   "source": [
    "# 윈도우 크기 조절\n",
    "driver.set_window_size(500, 800)"
   ]
  },
  {
   "cell_type": "code",
   "execution_count": 8,
   "id": "95efce30-0ea0-4a0b-b36b-799c64493e67",
   "metadata": {},
   "outputs": [],
   "source": [
    "# 스크롤 위치 조절 - javascript 사용\n",
    "# 무한 스크롤링 같은 것을 할 때 사\n",
    "driver.execute_script(\"window.scrollTo(50, 600)\")"
   ]
  },
  {
   "cell_type": "code",
   "execution_count": 9,
   "id": "1a34fb45-6762-435d-bbea-4033f22b8239",
   "metadata": {},
   "outputs": [],
   "source": [
    "# 다 사용했으면 종료. 종료 안하면 브라우가 메모리상에 계속 남아있게 된다.\n",
    "driver.quit()"
   ]
  },
  {
   "cell_type": "markdown",
   "id": "5d321cae-60a4-4cf0-b54f-c3c7df8a5319",
   "metadata": {},
   "source": [
    "# 셀레니움으로 뉴스기사 크롤링 하기"
   ]
  },
  {
   "cell_type": "code",
   "execution_count": 26,
   "id": "c88a1cfd-00d9-411b-b843-9b97a552e8e6",
   "metadata": {},
   "outputs": [],
   "source": [
    "driver = get_chrome_driver()"
   ]
  },
  {
   "cell_type": "code",
   "execution_count": 27,
   "id": "4e123a12-61fd-471b-be90-4dafa5be2ab0",
   "metadata": {},
   "outputs": [
    {
     "data": {
      "text/plain": [
       "'https://news.naver.com/main/main.naver?mode=LSD&mid=shm&sid1=105#&date=%2000:00:00&page=2'"
      ]
     },
     "execution_count": 27,
     "metadata": {},
     "output_type": "execute_result"
    }
   ],
   "source": [
    "url = \"https://news.naver.com/main/main.naver?mode=LSD&mid=shm&sid1=105#&date=%2000:00:00&page=2\"\n",
    "url"
   ]
  },
  {
   "cell_type": "code",
   "execution_count": 28,
   "id": "1e448706-7a8a-4751-b134-635b54901621",
   "metadata": {},
   "outputs": [],
   "source": [
    "driver.get(url)"
   ]
  },
  {
   "cell_type": "code",
   "execution_count": 29,
   "id": "7aee7443-d199-4e18-a2c3-c894f8e4be67",
   "metadata": {},
   "outputs": [
    {
     "data": {
      "text/plain": [
       "20"
      ]
     },
     "execution_count": 29,
     "metadata": {},
     "output_type": "execute_result"
    }
   ],
   "source": [
    "articles = driver.find_elements(  # 여러개를 찾는거라 element\"s\"\n",
    "    By.CSS_SELECTOR,\n",
    "    \"#section_body li\"  # 개발자도구 사용해서 확인\n",
    ")\n",
    "len(articles) # 길이를 통해서 제대로 수집되었는지 확인"
   ]
  },
  {
   "cell_type": "code",
   "execution_count": 30,
   "id": "c6383f1f-1cee-42b6-9dc6-cd2e18de6b25",
   "metadata": {},
   "outputs": [
    {
     "data": {
      "text/plain": [
       "'“일본 사람은 ‘이걸’ 처음 본다, 실화냐?” 삼성 뜻밖의 ‘굴욕’\\n“폰이 접혔어!” 최근 방영된 한 여행 예능 프로그램에서 출연자가 일본을 방문했다 …\\n헤럴드경제1시간전\\n10\\n이상\\n+'"
      ]
     },
     "execution_count": 30,
     "metadata": {},
     "output_type": "execute_result"
    }
   ],
   "source": [
    "articles[0].text  # 전체가 다 나옴"
   ]
  },
  {
   "cell_type": "code",
   "execution_count": 31,
   "id": "41cfed68-5672-4818-b29a-86466b360cd1",
   "metadata": {},
   "outputs": [
    {
     "data": {
      "text/plain": [
       "'“일본 사람은 ‘이걸’ 처음 본다, 실화냐?” 삼성 뜻밖의 ‘굴욕’'"
      ]
     },
     "execution_count": 31,
     "metadata": {},
     "output_type": "execute_result"
    }
   ],
   "source": [
    "articles[0].find_element(\n",
    "    By.CSS_SELECTOR,\n",
    "    \"dt:not(.photo) > a\" # li를 찾은 상태에서 a태그에 들어가있음. dt에 담겨있음 (dt.photo, dt 두가지 존재 =>.photo가 아닌 dt를 선택!!)\n",
    ").text"
   ]
  },
  {
   "cell_type": "code",
   "execution_count": 32,
   "id": "ee201a8b-a96e-480b-93e1-4e129a430280",
   "metadata": {},
   "outputs": [
    {
     "data": {
      "text/plain": [
       "['“일본 사람은 ‘이걸’ 처음 본다, 실화냐?” 삼성 뜻밖의 ‘굴욕’',\n",
       " '차세대 사회보장정보시스템 오류 여전…LG CNS \"책임 통감”',\n",
       " \"JW중외제약, 레오파마로부터 아토피 치료제 후보물질 'JW1601' 반환\",\n",
       " '[2023 국감] 사회보장정보시스템 \\'1년 간 오류\\' 질타에 …LG CNS \"책임 통감\"',\n",
       " 'IPX, 한국 인기 IP 내세워 중국 진출 본격화',\n",
       " '큐로셀, \"혁신 기술 기반 K-항암면역세포치료제 저력 보여줄 것”',\n",
       " 'LG CNS, 복지부 사업 중단에 \"책임 통감…혼란 없애겠다\" [국감2023]',\n",
       " '국민연금공단, 잇단 성비위…\"술자리 성추행-여직원에 알몸사진 전송\"',\n",
       " \"[DD's톡] ‘미르’ 또 한 번 게임체인저…위메이드, 中 공략 박차\",\n",
       " 'LG디스플레이, IT용 OLED 신규 투자 고심… 투자금 마련이 관건',\n",
       " '법원, 김의철 전 KBS 사장 해임유지 판결…\"공공복리 영향\"',\n",
       " '연가시가 사마귀를 조종하는 비밀…\"숙주에게 유전자 빼앗아\"',\n",
       " '증인·참고인 빠진 과방위 국감...‘불량 상임위’ 오명',\n",
       " \"'SM시세 조종 의혹' 카카오 김범수 소환…주가는 4만원 밑으로\",\n",
       " '현대바이오 \"제프티 임상참여 교수 12명, 긴급사용승인 신속 검토해야\"',\n",
       " '협업 중 게을러지는 인간…로봇과 일해도 마찬가지네',\n",
       " '\"우리FIS 직원, 우리은행·카드 소속 전환시 직위·급여체계 큰 틀에서 합의\"',\n",
       " '수익개선 본격나선 넷플릭스·디즈니…티빙·웨이브엔 ‘그림의 떡’',\n",
       " '애플, 내년 폴더블 아이패드 출시 전망… “폴더블 판 커지면 시장 선두 삼성전자 수혜”',\n",
       " '프랑스서 문제 된 애플 아이폰12 전자파 논란…국립전파원 \"국내 모델 문제 없어\"']"
      ]
     },
     "execution_count": 32,
     "metadata": {},
     "output_type": "execute_result"
    }
   ],
   "source": [
    "# 모든 뉴스기사 헤드라인 가져오기\n",
    "\n",
    "article_list = []\n",
    "\n",
    "for article in articles:\n",
    "    title = article.find_element(\n",
    "                By.CSS_SELECTOR,\n",
    "                \"dt:not(.photo) > a\" # .photo가 아닌 dt를 선택\n",
    "            ).text\n",
    "    \n",
    "    article_list.append(title)\n",
    "article_list"
   ]
  },
  {
   "cell_type": "code",
   "execution_count": 33,
   "id": "2e2497a3-ac40-4006-af4b-669c283c8bc1",
   "metadata": {},
   "outputs": [],
   "source": [
    "driver.quit()"
   ]
  },
  {
   "cell_type": "code",
   "execution_count": 24,
   "id": "e7e76ee8-5e46-47fb-8556-e59975411bab",
   "metadata": {},
   "outputs": [],
   "source": [
    "# 크롤링 함수로 만들어서 바로 진행가능하도록 만듬.\n",
    "# 1페이지부터 4페이지 뉴스기사제목 크롤링\n",
    "\n",
    "article_list = []\n",
    "\n",
    "def get_article(page):\n",
    "    driver = get_chrome_driver()\n",
    "\n",
    "    url = \"https://news.naver.com/main/main.naver?mode=LSD&mid=shm&sid1=104&page={}\".format(page)\n",
    "    driver.get(url)\n",
    "    articles = driver.find_elements( By.CSS_SELECTOR, \"#section_body li\")\n",
    "\n",
    "    for article in articles:\n",
    "        title = article.find_element( By.CSS_SELECTOR, \"dt:not(.photo) > a\").text\n",
    "        article_list.append(title)\n",
    "\n",
    "    print(\"Crawling : {}\".format(page))\n",
    "\n",
    "    driver.quit()"
   ]
  },
  {
   "cell_type": "code",
   "execution_count": 25,
   "id": "052714d7-d53a-4d60-a8d2-f6d3bc816b7b",
   "metadata": {},
   "outputs": [
    {
     "name": "stdout",
     "output_type": "stream",
     "text": [
      "Crawling : 1\n",
      "Crawling : 2\n",
      "Crawling : 3\n",
      "Crawling : 4\n",
      "CPU times: total: 125 ms\n",
      "Wall time: 37.9 s\n"
     ]
    }
   ],
   "source": [
    "%%time\n",
    "for page in range(1, 5):\n",
    "    get_article(page)  # 창이 한 개씩 열렸다 닫힘."
   ]
  },
  {
   "cell_type": "markdown",
   "id": "5d8adb38-1f1d-437a-b8cf-09b1bcbec1ac",
   "metadata": {},
   "source": [
    "# thread를 이용해서 크롤링 하기\n",
    "- `thread`를 활용하는 이유 : IDLE을 최대한 줄이기 위해 사용한다. (참고 : https://www.fmkorea.com/3094506287)\n",
    "- 1대의 CPU가 1개의 작업을 하고 있다는 이야기는 thread가 1개라는 의미 (병렬작업 진행)\n",
    "- 하나의 작업만을 하는 것이 아닌, 동시에 여러 작업을 하기 위함"
   ]
  },
  {
   "cell_type": "code",
   "execution_count": 34,
   "id": "1f52b111-ba45-4981-a808-7a0c46e70629",
   "metadata": {},
   "outputs": [
    {
     "name": "stdout",
     "output_type": "stream",
     "text": [
      "Crawling : 3\n",
      "Crawling : 2\n",
      "Crawling : 1\n",
      "Crawling : 4\n"
     ]
    }
   ],
   "source": [
    "import threading\n",
    "\n",
    "article_list = []\n",
    "\n",
    "for page in range(1, 5):\n",
    "    # target : 쓰레드 에서 수행할 작업\n",
    "    # args : 작업에 필요한 인자\n",
    "    th = threading.Thread(target=get_article, args=(page, ))  # get_article라는 작업을 수행할건데 쓰레드로 등록, get)article에 page 파라미터가 있어서 arguments넣어줘야함(튜플형태로!! (page)X (page,)O)\n",
    "    th.start()  # 아까와는 다르게 창이 동시에 열렸다가 닫힘. 단, 순서는 지멋대로^.^"
   ]
  },
  {
   "cell_type": "code",
   "execution_count": null,
   "id": "4c653389-0b36-45a9-9013-d2f3f582cac7",
   "metadata": {},
   "outputs": [],
   "source": []
  }
 ],
 "metadata": {
  "kernelspec": {
   "display_name": "Python 3 (ipykernel)",
   "language": "python",
   "name": "python3"
  },
  "language_info": {
   "codemirror_mode": {
    "name": "ipython",
    "version": 3
   },
   "file_extension": ".py",
   "mimetype": "text/x-python",
   "name": "python",
   "nbconvert_exporter": "python",
   "pygments_lexer": "ipython3",
   "version": "3.11.4"
  }
 },
 "nbformat": 4,
 "nbformat_minor": 5
}
